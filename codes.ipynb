{
 "metadata": {
  "name": "",
  "signature": "sha256:98c681b3d3f3a99ee146c312217e4371e148eb7610b541a10ecaee72ed7a7a8c"
 },
 "nbformat": 3,
 "nbformat_minor": 0,
 "worksheets": [
  {
   "cells": [
    {
     "cell_type": "code",
     "collapsed": false,
     "input": [
      "import numpy\n",
      "import scipy\n",
      "import scipy.stats\n",
      "import matplotlib.pyplot as plt\n",
      "import math\n",
      "import heapq\n",
      "import pylab as pl"
     ],
     "language": "python",
     "metadata": {},
     "outputs": [],
     "prompt_number": 1
    },
    {
     "cell_type": "code",
     "collapsed": false,
     "input": [
      "sys1 = numpy.loadtxt(open(\"/home/user/Desktop/System-1.dat\",\"rb\"),delimiter=\",\")\n",
      "sys2 = numpy.loadtxt(open(\"/home/user/Desktop/System-2.dat\",\"rb\"),delimiter=\",\")"
     ],
     "language": "python",
     "metadata": {},
     "outputs": [],
     "prompt_number": 2
    },
    {
     "cell_type": "code",
     "collapsed": false,
     "input": [
      "genuine_score_sys1 = numpy.diag(sys1)\n",
      "genuine_score_sys2 = numpy.diag(sys2)\n",
      "\n",
      "imposter_score_sys1 = []\n",
      "imposter_score_sys2 = []\n",
      "for i in range(400):\n",
      "\tfor j in range(400):\n",
      "\t\tif(i==j):\n",
      "\t\t\tcontinue;\n",
      "\t\timposter_score_sys1.append(sys1[i][j])\n",
      "\n",
      "for i in range(400):\n",
      "\tfor j in range(400):\n",
      "\t\tif(i==j):\n",
      "\t\t\tcontinue;\n",
      "\t\timposter_score_sys2.append(sys2[i][j])"
     ],
     "language": "python",
     "metadata": {},
     "outputs": [],
     "prompt_number": 3
    },
    {
     "cell_type": "code",
     "collapsed": false,
     "input": [
      "tmp_imposter_score_sys1 = imposter_score_sys1\n",
      "tmp_imposter_score_sys1.sort()\n",
      "\n",
      "print \"--------------System 1--------------------\"\n",
      "\n",
      "operating_threshold = tmp_imposter_score_sys1[1*1596]\n",
      "count = 0\n",
      "for i in genuine_score_sys1:\n",
      "    if(i>operating_threshold):\n",
      "        count = count + 1\n",
      "reqd_frr_pc = count/4.0\n",
      "print \"When FAR is 1 %, FRR is \" + str(reqd_frr_pc)\n",
      "\n",
      "operating_threshold = tmp_imposter_score_sys1[5*1596]\n",
      "count = 0\n",
      "for i in genuine_score_sys1:\n",
      "    if(i>operating_threshold):\n",
      "        count = count + 1\n",
      "reqd_frr_pc = count/4.0\n",
      "print \"When FAR is 5 %, FRR is \" + str(reqd_frr_pc)\n",
      "\n",
      "operating_threshold = tmp_imposter_score_sys1[10*1596]\n",
      "count = 0\n",
      "for i in genuine_score_sys1:\n",
      "    if(i>operating_threshold):\n",
      "        count = count + 1\n",
      "reqd_frr_pc = count/4.0\n",
      "print \"When FAR is 10 %, FRR is \" + str(reqd_frr_pc)\n",
      "\n",
      "operating_threshold = tmp_imposter_score_sys1[20*1596]\n",
      "count = 0\n",
      "for i in genuine_score_sys1:\n",
      "    if(i>operating_threshold):\n",
      "        count = count + 1\n",
      "reqd_frr_pc = count/4.0\n",
      "print \"When FAR is 20 %, FRR is \" + str(reqd_frr_pc)"
     ],
     "language": "python",
     "metadata": {},
     "outputs": [
      {
       "output_type": "stream",
       "stream": "stdout",
       "text": [
        "--------------System 1--------------------\n",
        "When FAR is 1 %, FRR is 58.75\n",
        "When FAR is 5 %, FRR is 44.75\n",
        "When FAR is 10 %, FRR is 39.25\n",
        "When FAR is 20 %, FRR is 31.75\n"
       ]
      }
     ],
     "prompt_number": 4
    },
    {
     "cell_type": "code",
     "collapsed": false,
     "input": [
      "tmp_imposter_score_sys2 = imposter_score_sys2\n",
      "tmp_imposter_score_sys2.sort()\n",
      "\n",
      "print \"--------------System 2--------------------\"\n",
      "operating_threshold = tmp_imposter_score_sys2[1*1596]\n",
      "count = 0\n",
      "for i in genuine_score_sys2:\n",
      "    if(i>operating_threshold):\n",
      "        count = count + 1\n",
      "reqd_frr_pc = count/4.0\n",
      "print \"When FAR is 1 %, FRR is \" + str(reqd_frr_pc)\n",
      "\n",
      "operating_threshold = tmp_imposter_score_sys2[5*1596]\n",
      "count = 0\n",
      "for i in genuine_score_sys2:\n",
      "    if(i>operating_threshold):\n",
      "        count = count + 1\n",
      "reqd_frr_pc = count/4.0\n",
      "print \"When FAR is 5 %, FRR is \" + str(reqd_frr_pc)\n",
      "\n",
      "operating_threshold = tmp_imposter_score_sys2[10*1596]\n",
      "count = 0\n",
      "for i in genuine_score_sys2:\n",
      "    if(i>operating_threshold):\n",
      "        count = count + 1\n",
      "reqd_frr_pc = count/4.0\n",
      "print \"When FAR is 10 %, FRR is \" + str(reqd_frr_pc)\n",
      "\n",
      "operating_threshold = tmp_imposter_score_sys2[20*1596]\n",
      "count = 0\n",
      "for i in genuine_score_sys2:\n",
      "    if(i>operating_threshold):\n",
      "        count = count + 1\n",
      "reqd_frr_pc = count/4.0\n",
      "print \"When FAR is 20 %, FRR is \" + str(reqd_frr_pc)"
     ],
     "language": "python",
     "metadata": {},
     "outputs": [
      {
       "output_type": "stream",
       "stream": "stdout",
       "text": [
        "--------------System 2--------------------\n",
        "When FAR is 1 %, FRR is 5.5\n",
        "When FAR is 5 %, FRR is 3.25\n",
        "When FAR is 10 %, FRR is 2.5\n",
        "When FAR is 20 %, FRR is 1.5\n"
       ]
      }
     ],
     "prompt_number": 5
    },
    {
     "cell_type": "code",
     "collapsed": false,
     "input": [
      "sys1_initial_threshold = sys1.min()\n",
      "sys2_initial_threshold = sys2.min()\n",
      "\n",
      "sys1_final_threshold = sys1.max()\n",
      "sys2_final_threshold = sys2.max()\n",
      "\n",
      "no_of_gen_scores_above_threshold = 0\n",
      "no_of_impstr_scores_below_threshold = 0\n",
      "false_reject_pc = []\n",
      "false_accept_pc = []\n",
      "operating_points = []\n",
      "\n",
      "difference_in_error_rates_holders_sys1 = []\n",
      "difference_in_error_rates_holders_sys2 = []\n",
      "\n",
      "x = sys1_initial_threshold\n",
      "while(x <= sys1_final_threshold ):\n",
      "    no_of_gen_scores_above_threshold = 0\n",
      "    no_of_impstr_scores_below_threshold = 0\n",
      "    for i in genuine_score_sys1:\n",
      "        if(i > x):\n",
      "            no_of_gen_scores_above_threshold = no_of_gen_scores_above_threshold + 1 \n",
      "    for i in imposter_score_sys1:\n",
      "        if(i < x):\n",
      "            no_of_impstr_scores_below_threshold = no_of_impstr_scores_below_threshold + 1\n",
      "    false_reject_pc.append(no_of_gen_scores_above_threshold/4.0)\n",
      "    false_accept_pc.append(no_of_impstr_scores_below_threshold/1596.0)\n",
      "    difference_in_error_rates_holders_sys1.append(abs(no_of_gen_scores_above_threshold/4.0 - no_of_impstr_scores_below_threshold/1596.0))\n",
      "    operating_points.append(x)\n",
      "    x = x+0.6\n",
      "minimum_error_difference_in_sys1 = numpy.asarray(difference_in_error_rates_holders_sys1).min()\n",
      "index_of_minimum_error_sys1 = numpy.where(difference_in_error_rates_holders_sys1 == minimum_error_difference_in_sys1)[0][0]\n",
      "EER_Sys1 = false_accept_pc[index_of_minimum_error_sys1]\n",
      "operating_point_of_EER_Sys1 = operating_points[index_of_minimum_error_sys1]\n",
      "print EER_Sys1\n",
      "print operating_point_of_EER_Sys1\n",
      "\n",
      "plt.loglog(false_accept_pc,false_reject_pc, lw=2)\n",
      "\n",
      "no_of_gen_scores_above_threshold = 0\n",
      "no_of_impstr_scores_below_threshold = 0\n",
      "false_reject_pc = []\n",
      "false_accept_pc = []\n",
      "operating_points = []\n",
      "\n",
      "x = sys2_initial_threshold\n",
      "while(x <= sys2_final_threshold ):\n",
      "    no_of_gen_scores_above_threshold = 0\n",
      "    no_of_impstr_scores_below_threshold = 0\n",
      "    for i in genuine_score_sys2:\n",
      "        if(i > x):\n",
      "            no_of_gen_scores_above_threshold = no_of_gen_scores_above_threshold + 1 \n",
      "    for i in imposter_score_sys2:\n",
      "        if(i < x):\n",
      "            no_of_impstr_scores_below_threshold = no_of_impstr_scores_below_threshold + 1\n",
      "    false_reject_pc.append(no_of_gen_scores_above_threshold/4.0)\n",
      "    false_accept_pc.append(no_of_impstr_scores_below_threshold/1596.0)\n",
      "    difference_in_error_rates_holders_sys2.append(abs(no_of_gen_scores_above_threshold/4.0 - no_of_impstr_scores_below_threshold/1596.0))\n",
      "    operating_points.append(x)\n",
      "    x = x+0.6\n",
      "minimum_error_difference_in_sys2 = numpy.asarray(difference_in_error_rates_holders_sys2).min()\n",
      "index_of_minimum_error_sys2 = numpy.where(difference_in_error_rates_holders_sys2 == minimum_error_difference_in_sys2)[0][0]\n",
      "EER_Sys2 = false_accept_pc[index_of_minimum_error_sys2]\n",
      "operating_point_of_EER_Sys2 = operating_points[index_of_minimum_error_sys2]\n",
      "print EER_Sys2\n",
      "print operating_point_of_EER_Sys2\n",
      "\n",
      "plt.loglog(false_accept_pc,false_reject_pc,lw=2)\n",
      "plt.xlabel('False Accept Rate in %')\n",
      "plt.ylabel('False Reject Rate in %')\n",
      "plt.suptitle('FAR v/s FRR plot for System 1 and System 2')\n",
      "plt.legend(['System 1', 'System 2'],loc='lower left')\n",
      "plt.show()"
     ],
     "language": "python",
     "metadata": {},
     "outputs": [
      {
       "output_type": "stream",
       "stream": "stdout",
       "text": [
        "28.14160401\n",
        "138.466667\n",
        "3.4373433584"
       ]
      },
      {
       "output_type": "stream",
       "stream": "stdout",
       "text": [
        "\n",
        "69.635938\n"
       ]
      }
     ],
     "prompt_number": 6
    },
    {
     "cell_type": "code",
     "collapsed": false,
     "input": [
      "sys1_gen_score_mean = numpy.mean(genuine_score_sys1)\n",
      "sys1_gen_score_var = numpy.var(genuine_score_sys1)\n",
      "sys1_impstr_score_mean = numpy.mean(imposter_score_sys1)\n",
      "sys1_impstr_score_var = numpy.var(imposter_score_sys1)\n",
      "\n",
      "sys2_gen_score_mean = numpy.mean(genuine_score_sys2)\n",
      "sys2_gen_score_var = numpy.var(genuine_score_sys2)\n",
      "sys2_impstr_score_mean = numpy.mean(imposter_score_sys2)\n",
      "sys2_impstr_score_var = numpy.var(imposter_score_sys2)\n",
      "\n",
      "sys1_d_prime = (math.sqrt(2)*abs(sys1_gen_score_mean-sys1_impstr_score_mean))/(math.sqrt(sys1_gen_score_var+sys1_impstr_score_var))\n",
      "sys2_d_prime = (math.sqrt(2)*abs(sys2_gen_score_mean-sys2_impstr_score_mean))/(math.sqrt(sys2_gen_score_var+sys2_impstr_score_var))\n",
      "print sys1_d_prime\n",
      "print sys2_d_prime"
     ],
     "language": "python",
     "metadata": {},
     "outputs": [
      {
       "output_type": "stream",
       "stream": "stdout",
       "text": [
        "1.22988466291\n",
        "4.07085641966\n"
       ]
      }
     ],
     "prompt_number": 7
    },
    {
     "cell_type": "code",
     "collapsed": false,
     "input": [
      "import scipy.stats as stats\n",
      "\n",
      "sys1_gen_hist_freq_holder = numpy.histogram(genuine_score_sys1,40)\n",
      "\n",
      "h = sorted(genuine_score_sys1)  #sorted\n",
      "fit = stats.norm.pdf(h, numpy.mean(h), numpy.std(h))  #this is a fitting indeed\n",
      "pl.plot(h,fit,'-o')\n",
      "\n",
      "plt.hist(genuine_score_sys1, bins = sys1_gen_hist_freq_holder[1].tolist(), normed = 1, alpha = 0.5)\n",
      "#plt.show()\n",
      "sys1_impstr_hist_freq_holder = numpy.histogram(imposter_score_sys1,40)\n",
      "\n",
      "h = sorted(imposter_score_sys1)  #sorted\n",
      "fit = stats.norm.pdf(h, numpy.mean(h), numpy.std(h))  #this is a fitting indeed\n",
      "pl.plot(h,fit,'-o')\n",
      "plt.hist(imposter_score_sys1, bins = sys1_impstr_hist_freq_holder[1].tolist(), normed = 1,  alpha = 0.5)\n",
      "plt.xlabel('Match Score')\n",
      "plt.ylabel('Probability Distribution')\n",
      "plt.legend(['Genuine Score', 'Imposter Score'], loc='upper left')\n",
      "plt.title('Genuine/Imposter Match Score Distribution for System 1')\n",
      "plt.show()"
     ],
     "language": "python",
     "metadata": {},
     "outputs": [],
     "prompt_number": 8
    },
    {
     "cell_type": "code",
     "collapsed": false,
     "input": [
      "import scipy.stats as stats\n",
      "\n",
      "sys2_gen_hist_freq_holder = numpy.histogram(genuine_score_sys2,40)\n",
      "\n",
      "h = sorted(genuine_score_sys2)  #sorted\n",
      "fit = stats.norm.pdf(h, numpy.mean(h), numpy.std(h))  #this is a fitting indeed\n",
      "pl.plot(h,fit,'-o')\n",
      "\n",
      "plt.hist(genuine_score_sys2, bins = sys2_gen_hist_freq_holder[1].tolist(), normed = 1, alpha = 0.5)\n",
      "\n",
      "sys2_impstr_hist_freq_holder = numpy.histogram(imposter_score_sys2,40)\n",
      "\n",
      "h = sorted(imposter_score_sys2)  #sorted\n",
      "fit = stats.norm.pdf(h, numpy.mean(h), numpy.std(h))  #this is a fitting indeed\n",
      "pl.plot(h,fit,'-o')\n",
      "\n",
      "plt.hist(imposter_score_sys2, bins = sys2_impstr_hist_freq_holder[1].tolist(), normed = 1, alpha = 0.5)\n",
      "\n",
      "plt.xlabel('Match Score')\n",
      "plt.ylabel('Probability Distribution')\n",
      "plt.legend(['Genuine Score', 'Imposter Score'], loc='upper left')\n",
      "plt.suptitle('Genuine/Imposter Match Score Distribution for System 2')\n",
      "plt.show()"
     ],
     "language": "python",
     "metadata": {},
     "outputs": [],
     "prompt_number": 9
    },
    {
     "cell_type": "code",
     "collapsed": false,
     "input": [
      "sys1 = numpy.loadtxt(open(\"/home/user/Desktop/System-1.dat\",\"rb\"),delimiter=\",\")\n",
      "yaxval = []\n",
      "xaxval = []\n",
      "for rank in range(1,400):\n",
      "    count = 0\n",
      "    for i in range(400):\n",
      "        x = sys1[i].argsort()\n",
      "        if i in x[:rank]:\n",
      "            count = count + 1\n",
      "    yaxval.append(count/4)\n",
      "    xaxval.append(rank)\n",
      "   \n",
      "cmc_plot_obj_sys1 = plt.plot(xaxval,yaxval,'red')\n",
      "\n",
      "sys2 = numpy.loadtxt(open(\"/home/user/Desktop/System-2.dat\",\"rb\"),delimiter=\",\")\n",
      "yaxval = []\n",
      "xaxval = []\n",
      "for rank in range(1,400):\n",
      "    count = 0\n",
      "    for i in range(400):\n",
      "        x = sys2[i].argsort()\n",
      "        if i in x[:rank]:\n",
      "            count = count + 1\n",
      "    yaxval.append(count/4)\n",
      "    xaxval.append(rank)\n",
      "   \n",
      "cmc_plot_obj_sys2 = plt.plot(xaxval,yaxval,'green')\n",
      "plt.xlabel('Rank')\n",
      "plt.ylabel('Cumulative Percentage')\n",
      "plt.suptitle('CMC graph for System 1 and 2')\n",
      "plt.legend(['System 1', 'System 2'],loc='lower right')\n",
      "plt.show()"
     ],
     "language": "python",
     "metadata": {},
     "outputs": [],
     "prompt_number": 16
    },
    {
     "cell_type": "code",
     "collapsed": false,
     "input": [
      "cmc_plot_obj_sys1[0].get_xydata()[199]"
     ],
     "language": "python",
     "metadata": {},
     "outputs": [
      {
       "metadata": {},
       "output_type": "pyout",
       "prompt_number": 24,
       "text": [
        "array([ 200.,   85.])"
       ]
      }
     ],
     "prompt_number": 24
    },
    {
     "cell_type": "code",
     "collapsed": false,
     "input": [
      "sys1_initial_threshold = sys1.min()\n",
      "sys2_initial_threshold = sys2.min()\n",
      "\n",
      "sys1_final_threshold = sys1.max()\n",
      "sys2_final_threshold = sys2.max()\n",
      "\n",
      "no_of_gen_scores_above_threshold = 0\n",
      "no_of_impstr_scores_below_threshold = 0\n",
      "false_reject_pc = []\n",
      "false_accept_pc = []\n",
      "operating_points = []\n",
      "\n",
      "difference_in_error_rates_holders_sys1 = []\n",
      "difference_in_error_rates_holders_sys2 = []\n",
      "\n",
      "x = sys1_initial_threshold\n",
      "while(x <= sys1_final_threshold ):\n",
      "    no_of_gen_scores_above_threshold = 0\n",
      "    no_of_impstr_scores_below_threshold = 0\n",
      "    for i in genuine_score_sys1:\n",
      "        if(i > x):\n",
      "            no_of_gen_scores_above_threshold = no_of_gen_scores_above_threshold + 1 \n",
      "    for i in imposter_score_sys1:\n",
      "        if(i < x):\n",
      "            no_of_impstr_scores_below_threshold = no_of_impstr_scores_below_threshold + 1\n",
      "    false_reject_pc.append(no_of_gen_scores_above_threshold/4.0)\n",
      "    false_accept_pc.append(no_of_impstr_scores_below_threshold/1596.0)\n",
      "    difference_in_error_rates_holders_sys1.append(abs(no_of_gen_scores_above_threshold/4.0 - no_of_impstr_scores_below_threshold/1596.0))\n",
      "    operating_points.append(x)\n",
      "    x = x+0.6\n",
      "minimum_error_difference_in_sys1 = numpy.asarray(difference_in_error_rates_holders_sys1).min()\n",
      "index_of_minimum_error_sys1 = numpy.where(difference_in_error_rates_holders_sys1 == minimum_error_difference_in_sys1)[0][0]\n",
      "EER_Sys1 = false_accept_pc[index_of_minimum_error_sys1]\n",
      "operating_point_of_EER_Sys1 = operating_points[index_of_minimum_error_sys1]\n",
      "print EER_Sys1\n",
      "print operating_point_of_EER_Sys1\n",
      "\n",
      "plt.plot(operating_points, false_reject_pc, 'blue')\n",
      "plt.plot(operating_points, false_accept_pc, 'green')\n",
      "plt.xlabel('Threshold Operating Points')\n",
      "plt.ylabel('Percentage')\n",
      "plt.legend(['FRR','FAR'], loc='upper right')\n",
      "plt.show()\n"
     ],
     "language": "python",
     "metadata": {},
     "outputs": [
      {
       "output_type": "stream",
       "stream": "stdout",
       "text": [
        "28.14160401\n",
        "138.466667\n"
       ]
      }
     ],
     "prompt_number": 6
    },
    {
     "cell_type": "code",
     "collapsed": false,
     "input": [
      "no_of_gen_scores_above_threshold = 0\n",
      "no_of_impstr_scores_below_threshold = 0\n",
      "false_reject_pc = []\n",
      "false_accept_pc = []\n",
      "operating_points = []\n",
      "\n",
      "x = sys2_initial_threshold\n",
      "while(x <= sys2_final_threshold ):\n",
      "    no_of_gen_scores_above_threshold = 0\n",
      "    no_of_impstr_scores_below_threshold = 0\n",
      "    for i in genuine_score_sys2:\n",
      "        if(i > x):\n",
      "            no_of_gen_scores_above_threshold = no_of_gen_scores_above_threshold + 1 \n",
      "    for i in imposter_score_sys2:\n",
      "        if(i < x):\n",
      "            no_of_impstr_scores_below_threshold = no_of_impstr_scores_below_threshold + 1\n",
      "    false_reject_pc.append(no_of_gen_scores_above_threshold/4.0)\n",
      "    false_accept_pc.append(no_of_impstr_scores_below_threshold/1596.0)\n",
      "    difference_in_error_rates_holders_sys2.append(abs(no_of_gen_scores_above_threshold/4.0 - no_of_impstr_scores_below_threshold/1596.0))\n",
      "    operating_points.append(x)\n",
      "    x = x+0.6\n",
      "minimum_error_difference_in_sys2 = numpy.asarray(difference_in_error_rates_holders_sys2).min()\n",
      "index_of_minimum_error_sys2 = numpy.where(difference_in_error_rates_holders_sys2 == minimum_error_difference_in_sys2)[0][0]\n",
      "EER_Sys2 = false_accept_pc[index_of_minimum_error_sys2]\n",
      "operating_point_of_EER_Sys2 = operating_points[index_of_minimum_error_sys2]\n",
      "print EER_Sys2\n",
      "print operating_point_of_EER_Sys2\n",
      "\n",
      "plt.plot(operating_points, false_reject_pc, 'blue')\n",
      "plt.plot(operating_points, false_accept_pc, 'green')\n",
      "plt.xlabel('Threshold Operating Points')\n",
      "plt.ylabel('Percentage')\n",
      "plt.legend(['FRR','FAR'], loc='upper right')\n",
      "plt.show()"
     ],
     "language": "python",
     "metadata": {},
     "outputs": [
      {
       "output_type": "stream",
       "stream": "stdout",
       "text": [
        "3.4373433584\n",
        "69.635938\n"
       ]
      }
     ],
     "prompt_number": 7
    },
    {
     "cell_type": "code",
     "collapsed": false,
     "input": [
      "tmp_genuine_score_sys1 = genuine_score_sys1.tolist()\n",
      "tmp_genuine_score_sys1.extend(imposter_score_sys1)\n",
      "sys1_deviate = numpy.asarray(tmp_genuine_score_sys1).std()"
     ],
     "language": "python",
     "metadata": {},
     "outputs": [],
     "prompt_number": 11
    },
    {
     "cell_type": "code",
     "collapsed": false,
     "input": [
      "tmp_genuine_score_sys2 = genuine_score_sys2.tolist()\n",
      "tmp_genuine_score_sys2.extend(imposter_score_sys2)\n",
      "sys2_deviate = numpy.asarray(tmp_genuine_score_sys2).std()"
     ],
     "language": "python",
     "metadata": {},
     "outputs": [],
     "prompt_number": 12
    },
    {
     "cell_type": "code",
     "collapsed": false,
     "input": [
      "sys2_deviate = 5.7012315915813119"
     ],
     "language": "python",
     "metadata": {},
     "outputs": [],
     "prompt_number": 31
    },
    {
     "cell_type": "code",
     "collapsed": false,
     "input": [
      "sys1_initial_threshold = sys1_deviate\n",
      "sys2_initial_threshold = sys2_deviate\n",
      "\n",
      "sys1_final_threshold = sys1.max()\n",
      "sys2_final_threshold = sys2.max()\n",
      "\n",
      "no_of_gen_scores_above_threshold = 0\n",
      "no_of_impstr_scores_below_threshold = 0\n",
      "false_reject_pc = []\n",
      "false_accept_pc = []\n",
      "\n",
      "x = sys1_initial_threshold\n",
      "while(x <= sys1_final_threshold ):\n",
      "    no_of_gen_scores_above_threshold = 0\n",
      "    no_of_impstr_scores_below_threshold = 0\n",
      "    for i in genuine_score_sys1:\n",
      "        if(i > x):\n",
      "            no_of_gen_scores_above_threshold = no_of_gen_scores_above_threshold + 1 \n",
      "    for i in imposter_score_sys1:\n",
      "        if(i < x):\n",
      "            no_of_impstr_scores_below_threshold = no_of_impstr_scores_below_threshold + 1\n",
      "    false_reject_pc.append(no_of_gen_scores_above_threshold/4.0)\n",
      "    false_accept_pc.append(no_of_impstr_scores_below_threshold/1596.0)\n",
      "    #difference_in_error_rates_holders_sys1.append(abs(no_of_gen_scores_above_threshold/4.0 - no_of_impstr_scores_below_threshold/1596.0))\n",
      "    #operating_points.append(x)\n",
      "    x = x+sys1_deviate\n",
      "\n",
      "\n",
      "plt.loglog(false_accept_pc,false_reject_pc, lw=3)\n",
      "\n",
      "no_of_gen_scores_above_threshold = 0\n",
      "no_of_impstr_scores_below_threshold = 0\n",
      "false_reject_pc = []\n",
      "false_accept_pc = []\n",
      "\n",
      "x = sys2_initial_threshold\n",
      "while(x <= sys2_final_threshold ):\n",
      "    no_of_gen_scores_above_threshold = 0\n",
      "    no_of_impstr_scores_below_threshold = 0\n",
      "    for i in genuine_score_sys2:\n",
      "        if(i > x):\n",
      "            no_of_gen_scores_above_threshold = no_of_gen_scores_above_threshold + 1 \n",
      "    for i in imposter_score_sys2:\n",
      "        if(i < x):\n",
      "            no_of_impstr_scores_below_threshold = no_of_impstr_scores_below_threshold + 1\n",
      "    false_reject_pc.append(no_of_gen_scores_above_threshold/4.0)\n",
      "    false_accept_pc.append(no_of_impstr_scores_below_threshold/1596.0)\n",
      "    #difference_in_error_rates_holders_sys1.append(abs(no_of_gen_scores_above_threshold/4.0 - no_of_impstr_scores_below_threshold/1596.0))\n",
      "    #operating_points.append(x)\n",
      "    x = x+sys2_deviate\n",
      "\n",
      "plt.loglog(false_accept_pc,false_reject_pc, lw=3)\n",
      "plt.legend(['System 1','System 2'],loc='lower left')\n",
      "plt.xlabel('False Accept Rate')\n",
      "plt.ylabel('False Reject Rate')\n",
      "plt.suptitle('Sys1 and Sys2 DET curve')\n",
      "plt.show()"
     ],
     "language": "python",
     "metadata": {},
     "outputs": [],
     "prompt_number": 13
    },
    {
     "cell_type": "code",
     "collapsed": false,
     "input": [
      "print false_accept_pc\n",
      "print false_reject_pc\n",
      "print x\n",
      "print sys2_initial_threshold"
     ],
     "language": "python",
     "metadata": {},
     "outputs": [
      {
       "output_type": "stream",
       "stream": "stdout",
       "text": [
        "[0.0, 0.0, 0.0, 0.0, 0.0, 0.0, 0.0, 0.0, 0.0, 0.0, 0.09335839598997493, 1.9906015037593985, 17.2531328320802, 54.6015037593985, 87.05200501253132, 98.08208020050125, 99.84085213032581, 99.9874686716792]\n",
        "[100.0, 100.0, 100.0, 100.0, 100.0, 100.0, 98.25, 73.5, 38.75, 19.5, 10.0, 4.25, 2.25, 0.5, 0.25, 0.0, 0.0, 0.0]\n",
        "108.32340024"
       ]
      },
      {
       "output_type": "stream",
       "stream": "stdout",
       "text": [
        "\n",
        "5.70123159158\n"
       ]
      }
     ],
     "prompt_number": 15
    }
   ],
   "metadata": {}
  }
 ]
}